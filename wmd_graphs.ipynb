{
 "cells": [
  {
   "cell_type": "code",
   "execution_count": 13,
   "metadata": {},
   "outputs": [],
   "source": [
    "import spacy\n",
    "import wmd\n",
    "from utils.ArticlesHandler import ArticlesHandler\n",
    "from utils import Config\n",
    "from utils import knn_similarities, solve, get_rate, accuracy, precision, recall, f1_score\n",
    "import numpy as np"
   ]
  },
  {
   "cell_type": "code",
   "execution_count": 5,
   "metadata": {},
   "outputs": [],
   "source": [
    "nlp = spacy.load('en_core_web_md')"
   ]
  },
  {
   "cell_type": "code",
   "execution_count": 9,
   "metadata": {},
   "outputs": [],
   "source": [
    "config = Config(file='config')\n",
    "\n",
    "\n",
    "articles = ArticlesHandler(config)\n",
    "articles = articles.articles.original_articles"
   ]
  },
  {
   "cell_type": "code",
   "execution_count": 12,
   "metadata": {},
   "outputs": [],
   "source": [
    "nlp_articles = {\n",
    "    'fake': list(map(lambda a: nlp(a), articles['fake'])),\n",
    "    'real': list(map(lambda a: nlp(a), articles['real'])),\n",
    "}"
   ]
  },
  {
   "cell_type": "code",
   "execution_count": 86,
   "metadata": {},
   "outputs": [],
   "source": [
    "all_articles = [('fake', a) for a in nlp_articles['fake']] + [('real', a) for a in nlp_articles['real']]\n",
    "\n",
    "np.random.shuffle(all_articles)\n",
    "\n",
    "labels, articles = zip(*all_articles)"
   ]
  },
  {
   "cell_type": "code",
   "execution_count": 87,
   "metadata": {},
   "outputs": [],
   "source": [
    "all_labels = np.array([1 if label == 'real' else -1 for label in labels])"
   ]
  },
  {
   "cell_type": "code",
   "execution_count": 88,
   "metadata": {},
   "outputs": [],
   "source": [
    "n_neighbours = 5\n",
    "n_unknown = 150"
   ]
  },
  {
   "cell_type": "code",
   "execution_count": 97,
   "metadata": {},
   "outputs": [],
   "source": [
    "graph = knn_similarities(articles, n_neighbours)"
   ]
  },
  {
   "cell_type": "code",
   "execution_count": 89,
   "metadata": {},
   "outputs": [],
   "source": [
    "indexes = np.arange(0, len(labels), dtype=int)\n",
    "to_remove = np.random.choice(indexes, n_unknown)\n",
    "labels = all_labels.copy()\n",
    "labels[to_remove] = 0"
   ]
  },
  {
   "cell_type": "code",
   "execution_count": 98,
   "metadata": {},
   "outputs": [],
   "source": [
    "graph = np.array(graph)"
   ]
  },
  {
   "cell_type": "code",
   "execution_count": 91,
   "metadata": {},
   "outputs": [],
   "source": [
    "beliefs = solve(graph, labels)"
   ]
  },
  {
   "cell_type": "code",
   "execution_count": 92,
   "metadata": {},
   "outputs": [
    {
     "name": "stdout",
     "output_type": "stream",
     "text": [
      "[ 1.  1. -1.  1.  1. -1.  1.  1.  1. -1.  1. -1.  1.  1.  1. -1.  1. -1.\n",
      "  1. -1.  1. -1. -1. -1.  1.  1. -1.  1.  1. -1.  1.  1.  1.  1.  1. -1.\n",
      " -1. -1.  1.  1. -1.  1. -1. -1.  1. -1. -1.  1.  1.  1. -1.  1. -1.  1.\n",
      " -1.  1.  1. -1.  1. -1. -1. -1.  1.  1.  1.  1. -1. -1.  1. -1. -1. -1.\n",
      "  1.  1.  1.  1.  1.  1. -1. -1.  1.  1. -1.  1. -1.  1. -1. -1.  1.  1.\n",
      " -1.  1.  1.  1. -1.  1.  1.  1.  1.  1. -1.  1.  1.  1.  1.  1.  1.  1.\n",
      "  1.  1. -1.  1.  1. -1. -1.  1.  1.  1.  1.  1. -1.  1. -1.  1. -1.  1.\n",
      "  1.  1.  1.  1.  1.  1.  1.  1. -1.  1.  1.  1.  1.  1.  1. -1.  1.  1.\n",
      "  1.  1.  1.  1. -1. -1. -1.  1.  1.  1.  1.  1.  1. -1.  1.  1. -1. -1.\n",
      "  1.  1. -1. -1. -1.  1.  1.  1.  1. -1.  1. -1. -1. -1.  1. -1.  1. -1.\n",
      " -1.  1.  1.  1. -1. -1. -1. -1. -1.  1. -1.  1.  1.  1.  1. -1. -1.  1.\n",
      "  1.  1.  1.  1. -1. -1.  1.  1.  1.  1. -1.  1.  1.  1.  1.  1.  1.  1.\n",
      "  1. -1.  1.  1.  1. -1.  1.  1.  1.  1. -1. -1. -1. -1.  1.  1.  1.  1.\n",
      " -1. -1.  1.  1. -1. -1.  1. -1.  1.  1.  1. -1.  1.  1.  1. -1. -1.  1.\n",
      " -1.  1. -1.  1.  1. -1. -1.  1.  1.  1. -1.  1.  1.  1.  1.  1. -1. -1.\n",
      "  1.  1.  1. -1. -1. -1. -1. -1.  1.  1. -1. -1.  1.  1.  1. -1. -1.  1.\n",
      " -1.  1.  1.  1.  1.  1. -1.  1. -1.  1.  1. -1.  1. -1.  1.  1.  1. -1.\n",
      " -1.  1.  1.  1.  1.  1.  1.  1.  1.  1.  1.  1.  1.  1.  1.  1. -1.  1.\n",
      "  1. -1. -1.  1. -1. -1. -1.  1.  1. -1.  1. -1.  1.  1.  1. -1.  1.  1.\n",
      "  1. -1.  1. -1. -1.  1.  1.  1.  1.  1. -1. -1.  1.  1.  1.  1. -1.  1.\n",
      "  1.  1.  1.  1.  1.  1.  1.  1. -1.  1.  1.  1. -1. -1.  1. -1.  1. -1.\n",
      "  1.  1.  1.  1.  1. -1.  1.  1.  1. -1.  1.  1. -1.  1.  1. -1.  1.  1.\n",
      "  1.  1.  1.  1.]\n",
      "return int belief [ 1.  1. -1.  1.  1. -1.  1.  1.  1. -1.  1. -1.  1.  1.  1. -1.  1. -1.\n",
      "  1. -1.  1. -1. -1. -1.  1.  1. -1.  1.  1. -1.  1.  1.  1.  1.  1. -1.\n",
      " -1. -1.  1.  1. -1.  1. -1. -1.  1. -1. -1.  1.  1.  1. -1.  1. -1.  1.\n",
      " -1.  1.  1. -1.  1. -1. -1. -1.  1.  1.  1.  1. -1. -1.  1. -1. -1. -1.\n",
      "  1.  1.  1.  1.  1.  1. -1. -1.  1.  1. -1.  1. -1.  1. -1. -1.  1.  1.\n",
      " -1.  1.  1.  1. -1.  1.  1.  1.  1.  1. -1.  1.  1.  1.  1.  1.  1.  1.\n",
      "  1.  1. -1.  1.  1. -1. -1.  1.  1.  1.  1.  1. -1.  1. -1.  1. -1.  1.\n",
      "  1.  1.  1.  1.  1.  1.  1.  1. -1.  1.  1.  1.  1.  1.  1. -1.  1.  1.\n",
      "  1.  1.  1.  1. -1. -1. -1.  1.  1.  1.  1.  1.  1. -1.  1.  1. -1. -1.\n",
      "  1.  1. -1. -1. -1.  1.  1.  1.  1. -1.  1. -1. -1. -1.  1. -1.  1. -1.\n",
      " -1.  1.  1.  1. -1. -1. -1. -1. -1.  1. -1.  1.  1.  1.  1. -1. -1.  1.\n",
      "  1.  1.  1.  1. -1. -1.  1.  1.  1.  1. -1.  1.  1.  1.  1.  1.  1.  1.\n",
      "  1. -1.  1.  1.  1. -1.  1.  1.  1.  1. -1. -1. -1. -1.  1.  1.  1.  1.\n",
      " -1. -1.  1.  1. -1. -1.  1. -1.  1.  1.  1. -1.  1.  1.  1. -1. -1.  1.\n",
      " -1.  1. -1.  1.  1. -1. -1.  1.  1.  1. -1.  1.  1.  1.  1.  1. -1. -1.\n",
      "  1.  1.  1. -1. -1. -1. -1. -1.  1.  1. -1. -1.  1.  1.  1. -1. -1.  1.\n",
      " -1.  1.  1.  1.  1.  1. -1.  1. -1.  1.  1. -1.  1. -1.  1.  1.  1. -1.\n",
      " -1.  1.  1.  1.  1.  1.  1.  1.  1.  1.  1.  1.  1.  1.  1.  1. -1.  1.\n",
      "  1. -1. -1.  1. -1. -1. -1.  1.  1. -1.  1. -1.  1.  1.  1. -1.  1.  1.\n",
      "  1. -1.  1. -1. -1.  1.  1.  1.  1.  1. -1. -1.  1.  1.  1.  1. -1.  1.\n",
      "  1.  1.  1.  1.  1.  1.  1.  1. -1.  1.  1.  1. -1. -1.  1. -1.  1. -1.\n",
      "  1.  1.  1.  1.  1. -1.  1.  1.  1. -1.  1.  1. -1.  1.  1. -1.  1.  1.\n",
      "  1.  1.  1.  1.]\n",
      "labels correct [ 1 -1 -1  1  1 -1  1 -1  1 -1  1 -1  1  1  1 -1  1 -1 -1 -1  1 -1 -1 -1\n",
      "  1  1 -1  1  1 -1 -1  1  1  1  1 -1 -1 -1  1  1 -1  1 -1 -1  1 -1 -1  1\n",
      "  1  1 -1  1 -1  1 -1  1  1 -1  1 -1 -1 -1  1 -1 -1  1 -1 -1  1 -1 -1 -1\n",
      "  1 -1 -1  1  1 -1 -1 -1  1  1 -1 -1 -1  1 -1 -1  1  1 -1  1  1  1 -1  1\n",
      " -1 -1  1  1 -1  1 -1 -1  1  1  1  1  1  1 -1  1  1 -1 -1  1  1 -1  1 -1\n",
      " -1  1 -1  1  1 -1  1  1 -1  1  1 -1  1  1 -1 -1  1  1  1  1  1 -1  1 -1\n",
      " -1  1  1  1 -1 -1 -1  1  1  1  1 -1  1 -1  1  1 -1 -1  1  1 -1 -1 -1  1\n",
      " -1 -1 -1 -1 -1 -1 -1 -1  1 -1  1 -1 -1  1  1  1 -1 -1 -1 -1 -1 -1 -1  1\n",
      " -1  1  1  1 -1  1  1 -1  1  1 -1 -1  1  1  1  1 -1  1  1  1 -1 -1  1  1\n",
      "  1 -1  1 -1  1 -1  1 -1  1  1 -1 -1 -1 -1  1  1  1  1 -1 -1  1 -1 -1 -1\n",
      "  1 -1  1  1  1 -1  1  1 -1 -1 -1  1 -1  1 -1 -1  1 -1 -1 -1 -1  1 -1  1\n",
      "  1  1  1  1 -1 -1  1  1  1 -1 -1 -1 -1 -1 -1  1 -1 -1  1 -1  1 -1 -1  1\n",
      " -1  1  1  1  1  1 -1 -1 -1 -1  1 -1  1 -1  1  1  1 -1 -1  1  1 -1 -1  1\n",
      "  1 -1 -1  1  1 -1 -1 -1  1  1 -1 -1  1 -1 -1  1 -1 -1 -1  1 -1 -1  1 -1\n",
      "  1  1 -1 -1 -1 -1  1 -1 -1 -1 -1  1  1  1  1  1 -1 -1  1  1  1  1 -1  1\n",
      "  1 -1  1  1  1  1  1  1 -1  1  1  1 -1 -1  1  1  1 -1  1 -1 -1 -1  1 -1\n",
      "  1  1  1 -1 -1 -1 -1 -1  1 -1 -1 -1  1 -1  1  1]\n",
      "labels to complete [ 0  0 -1  1  1 -1  1  0  1 -1  1 -1  1  0  0 -1  1 -1  0 -1  1 -1 -1 -1\n",
      "  1  1 -1  1  1 -1  0  1  1  1  1 -1 -1 -1  1  1 -1  1 -1 -1  0 -1 -1  0\n",
      "  1  1 -1  1 -1  1 -1  0  1 -1  1 -1 -1 -1  1  0  0  1 -1 -1  1 -1 -1 -1\n",
      "  1  0  0  1  1  0 -1 -1  1  1 -1  0 -1  1 -1 -1  0  1 -1  1  0  0 -1  1\n",
      "  0  0  0  1 -1  1  0  0  1  1  1  1  1  1 -1  1  1 -1 -1  1  0  0  0  0\n",
      " -1  1 -1  1  0  0  0  1  0  1  1  0  0  1 -1  0  1  0  1  1  0 -1  0  0\n",
      "  0  1  1  0 -1 -1 -1  1  1  1  1  0  1 -1  0  1 -1 -1  1  1 -1 -1 -1  0\n",
      "  0  0  0 -1  0 -1 -1 -1  1 -1  1 -1 -1  1  1  1 -1 -1 -1 -1 -1  0 -1  0\n",
      "  0  1  1  0 -1  1  1  0  0  0 -1 -1  1  0  0  1 -1  1  0  1  0  0  0  0\n",
      "  1 -1  1  0  0 -1  1  0  1  0 -1 -1 -1 -1  1  0  1  1 -1 -1  1  0 -1 -1\n",
      "  1 -1  1  0  0 -1  0  1  0 -1 -1  1 -1  1 -1  0  1 -1 -1  0  0  0 -1  0\n",
      "  1  1  0  0 -1 -1  0  1  1  0 -1 -1 -1 -1  0  0 -1 -1  1  0  1 -1 -1  1\n",
      " -1  1  1  1  1  0  0  0 -1  0  1 -1  0 -1  1  1  1 -1 -1  0  1  0  0  1\n",
      "  1  0  0  1  1  0  0  0  1  1 -1  0  1 -1 -1  1 -1 -1 -1  1  0 -1  1 -1\n",
      "  1  1  0 -1  0  0  1 -1  0 -1 -1  1  0  1  0  0 -1 -1  0  1  0  1 -1  1\n",
      "  1  0  0  1  0  0  0  1 -1  1  1  1 -1 -1  1  0  1 -1  0  0  0  0  1  0\n",
      "  0  1  1 -1  0  0 -1  0  1 -1  0  0  1  0  1  1]\n",
      "% Correct (accuracy, precision, recall, f1_score) 45.238095238095234 45.0 94.73684210526316 61.016949152542374\n",
      "100.0 % of labels\n"
     ]
    }
   ],
   "source": [
    "beliefs[beliefs > 0] = 1\n",
    "beliefs[beliefs < 0] = -1\n",
    "\n",
    "print(beliefs)\n",
    "\n",
    "TP, TN, FP, FN = get_rate(beliefs, labels, all_labels)\n",
    "acc = accuracy(TP, TN, FP, FN)\n",
    "prec = precision(TP, FP)\n",
    "rec = recall(TP, FN)\n",
    "f1 = f1_score(prec, rec)\n",
    "print(\"return int belief\", beliefs)\n",
    "print(\"labels correct\", all_labels)\n",
    "print(\"labels to complete\", labels)\n",
    "print(\"% Correct (accuracy, precision, recall, f1_score)\", 100 * acc, prec * 100, rec * 100, f1 * 100)\n",
    "print(100 * float(len(np.array(list(labels)) == 0.))/float(len(list(labels))), '% of labels')"
   ]
  },
  {
   "cell_type": "code",
   "execution_count": 99,
   "metadata": {},
   "outputs": [
    {
     "name": "stdout",
     "output_type": "stream",
     "text": [
      "% Correct (accuracy, precision, recall, f1_score) 48.27916666666666 41.25992063492064 47.980714285714285 61.016949152542374\n"
     ]
    }
   ],
   "source": [
    "n_tries = 1000\n",
    "n_unknown = 10\n",
    "\n",
    "acc_mean = np.zeros(n_tries)\n",
    "prec_mean = np.zeros(n_tries)\n",
    "recall_mean = np.zeros(n_tries)\n",
    "f1_mean = np.zeros(n_tries)\n",
    "\n",
    "for k in range(n_tries):\n",
    "    g = graph.copy()\n",
    "    all_articles = [('fake', a) for a in nlp_articles['fake']] + [('real', a) for a in nlp_articles['real']]\n",
    "\n",
    "    np.random.shuffle(all_articles)\n",
    "\n",
    "    labels, articles = zip(*all_articles)\n",
    "    all_labels = np.array([1 if label == 'real' else -1 for label in labels])\n",
    "\n",
    "    indexes = np.arange(0, len(labels), dtype=int)\n",
    "    to_remove = np.random.choice(indexes, n_unknown)\n",
    "    labels = all_labels.copy()\n",
    "    labels[to_remove] = 0\n",
    "\n",
    "    beliefs = solve(g, labels)\n",
    "\n",
    "    beliefs[beliefs > 0] = 1\n",
    "    beliefs[beliefs < 0] = -1\n",
    "\n",
    "\n",
    "    TP, TN, FP, FN = get_rate(beliefs, labels, all_labels)\n",
    "    acc_mean[k] = accuracy(TP, TN, FP, FN)\n",
    "    prec_mean[k] = precision(TP, FP)\n",
    "    recall_mean[k] = recall(TP, FN)\n",
    "    f1_mean[k] = f1_score(prec, rec)\n",
    "    \n",
    "print(\"% Correct (accuracy, precision, recall, f1_score)\", 100 * acc_mean.mean(), prec_mean.mean() * 100, recall_mean.mean() * 100, f1 * 100)"
   ]
  },
  {
   "cell_type": "code",
   "execution_count": null,
   "metadata": {},
   "outputs": [],
   "source": []
  }
 ],
 "metadata": {
  "kernelspec": {
   "display_name": "Python 3",
   "language": "python",
   "name": "python3"
  },
  "language_info": {
   "codemirror_mode": {
    "name": "ipython",
    "version": 3
   },
   "file_extension": ".py",
   "mimetype": "text/x-python",
   "name": "python",
   "nbconvert_exporter": "python",
   "pygments_lexer": "ipython3",
   "version": "3.7.1"
  }
 },
 "nbformat": 4,
 "nbformat_minor": 1
}